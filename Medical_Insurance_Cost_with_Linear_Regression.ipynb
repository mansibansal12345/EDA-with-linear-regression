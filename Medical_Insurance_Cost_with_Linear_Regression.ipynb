{
  "cells": [
    {
      "source": [
        "\n",
        "# IMPORTANT: RUN THIS CELL IN ORDER TO IMPORT YOUR KAGGLE DATA SOURCES\n",
        "# TO THE CORRECT LOCATION (/kaggle/input) IN YOUR NOTEBOOK,\n",
        "# THEN FEEL FREE TO DELETE THIS CELL.\n",
        "# NOTE: THIS NOTEBOOK ENVIRONMENT DIFFERS FROM KAGGLE'S PYTHON\n",
        "# ENVIRONMENT SO THERE MAY BE MISSING LIBRARIES USED BY YOUR\n",
        "# NOTEBOOK.\n",
        "\n",
        "import os\n",
        "import sys\n",
        "from tempfile import NamedTemporaryFile\n",
        "from urllib.request import urlopen\n",
        "from urllib.parse import unquote, urlparse\n",
        "from urllib.error import HTTPError\n",
        "from zipfile import ZipFile\n",
        "import tarfile\n",
        "import shutil\n",
        "\n",
        "CHUNK_SIZE = 40960\n",
        "DATA_SOURCE_MAPPING = ':https%3A%2F%2Fstorage.googleapis.com%2Fkaggle-data-sets%2F13720%2F18513%2Fbundle%2Farchive.zip%3FX-Goog-Algorithm%3DGOOG4-RSA-SHA256%26X-Goog-Credential%3Dgcp-kaggle-com%2540kaggle-161607.iam.gserviceaccount.com%252F20240930%252Fauto%252Fstorage%252Fgoog4_request%26X-Goog-Date%3D20240930T133317Z%26X-Goog-Expires%3D259200%26X-Goog-SignedHeaders%3Dhost%26X-Goog-Signature%3D50c294851acb94b0f6ac79445e92c72f978b755f5c33cbbcbd97e2846faa94b5f396556b283267bca9db55dda3150afaeaa91027b3a637c19e7b3c88fc11897c4b2158a5e2bbde260f19af474fd1ba875d7796bdddfed66c923903a82884a419226716f8c2b594eacce5c1af04ceb24e8f9c3cf2682eac68298feb55cf1588ed458066a7f4cdcf2f42f67e1631821960d36c1d5215583370ee4ff9411c2bcba9a91f10b2fdf4e7223a4145f40a63f2af0d2f00496188816a136ad3c3f350ac5dbf921db51f7f9a67f8cfb01225eaabc49fc9ef6965f8feee65e07bc1c0e1be04881faeb490eb1f79344cb3029e0b8c8d108d0935a80edfe0f492838a2777f279'\n",
        "\n",
        "KAGGLE_INPUT_PATH='/kaggle/input'\n",
        "KAGGLE_WORKING_PATH='/kaggle/working'\n",
        "KAGGLE_SYMLINK='kaggle'\n",
        "\n",
        "!umount /kaggle/input/ 2> /dev/null\n",
        "shutil.rmtree('/kaggle/input', ignore_errors=True)\n",
        "os.makedirs(KAGGLE_INPUT_PATH, 0o777, exist_ok=True)\n",
        "os.makedirs(KAGGLE_WORKING_PATH, 0o777, exist_ok=True)\n",
        "\n",
        "try:\n",
        "  os.symlink(KAGGLE_INPUT_PATH, os.path.join(\"..\", 'input'), target_is_directory=True)\n",
        "except FileExistsError:\n",
        "  pass\n",
        "try:\n",
        "  os.symlink(KAGGLE_WORKING_PATH, os.path.join(\"..\", 'working'), target_is_directory=True)\n",
        "except FileExistsError:\n",
        "  pass\n",
        "\n",
        "for data_source_mapping in DATA_SOURCE_MAPPING.split(','):\n",
        "    directory, download_url_encoded = data_source_mapping.split(':')\n",
        "    download_url = unquote(download_url_encoded)\n",
        "    filename = urlparse(download_url).path\n",
        "    destination_path = os.path.join(KAGGLE_INPUT_PATH, directory)\n",
        "    try:\n",
        "        with urlopen(download_url) as fileres, NamedTemporaryFile() as tfile:\n",
        "            total_length = fileres.headers['content-length']\n",
        "            print(f'Downloading {directory}, {total_length} bytes compressed')\n",
        "            dl = 0\n",
        "            data = fileres.read(CHUNK_SIZE)\n",
        "            while len(data) > 0:\n",
        "                dl += len(data)\n",
        "                tfile.write(data)\n",
        "                done = int(50 * dl / int(total_length))\n",
        "                sys.stdout.write(f\"\\r[{'=' * done}{' ' * (50-done)}] {dl} bytes downloaded\")\n",
        "                sys.stdout.flush()\n",
        "                data = fileres.read(CHUNK_SIZE)\n",
        "            if filename.endswith('.zip'):\n",
        "              with ZipFile(tfile) as zfile:\n",
        "                zfile.extractall(destination_path)\n",
        "            else:\n",
        "              with tarfile.open(tfile.name) as tarfile:\n",
        "                tarfile.extractall(destination_path)\n",
        "            print(f'\\nDownloaded and uncompressed: {directory}')\n",
        "    except HTTPError as e:\n",
        "        print(f'Failed to load (likely expired) {download_url} to path {destination_path}')\n",
        "        continue\n",
        "    except OSError as e:\n",
        "        print(f'Failed to load {download_url} to path {destination_path}')\n",
        "        continue\n",
        "\n",
        "print('Data source import complete.')\n"
      ],
      "metadata": {
        "id": "1-7TRMRWLg0Z"
      },
      "cell_type": "code",
      "outputs": [],
      "execution_count": null
    },
    {
      "metadata": {
        "id": "_9a6L04gLg0c"
      },
      "cell_type": "markdown",
      "source": [
        "<font size=5 > <p style=\"color:purple\"> Which Factors Influence the Price of Health Insurance?"
      ]
    },
    {
      "metadata": {
        "id": "t3jhCsCOLg0f"
      },
      "cell_type": "markdown",
      "source": [
        "<img src=\"https://i.imgur.com/zTnvOcb.jpg\" width=\"800\">"
      ]
    },
    {
      "metadata": {
        "id": "ujA6gX1tLg0g"
      },
      "cell_type": "markdown",
      "source": [
        "<font size='2'>Many factors that affect how much you pay for health insurance are not within your control. Nonetheless, it's good to have an understanding of what they are. Here are some factors that affect how much health insurance premiums cost\n",
        "\n",
        "* **age:** age of primary beneficiary\n",
        "\n",
        "* **sex:** insurance contractor gender, female, male\n",
        "\n",
        "* **bmi:** Body mass index, providing an understanding of body, weights that are relatively high or low relative to height, objective index of body weight (kg / m ^ 2) using the ratio of height to weight, ideally 18.5 to 24.9\n",
        "\n",
        "* **children:** Number of children covered by health insurance / Number of dependents\n",
        "\n",
        "* **smoker:** Smoking\n",
        "\n",
        "* **region:** the beneficiary's residential area in the US, northeast, southeast, southwest, northwest"
      ]
    },
    {
      "metadata": {
        "id": "U0RolKZtLg0h"
      },
      "cell_type": "markdown",
      "source": [
        "<font size=5><p style=\"color:purple\"> EDA and Visualizations"
      ]
    },
    {
      "metadata": {
        "_uuid": "8f2839f25d086af736a60e9eeb907d3b93b6e0e5",
        "_cell_guid": "b1076dfc-b9ad-4769-8c92-a6c4dae69d19",
        "trusted": true,
        "id": "pf_RInixLg0h"
      },
      "cell_type": "code",
      "source": [
        "import pandas as pd\n",
        "import numpy as np\n",
        "import matplotlib.pyplot as plt\n",
        "%matplotlib inline\n",
        "import seaborn as sns\n",
        "import warnings\n",
        "warnings.filterwarnings('ignore')"
      ],
      "execution_count": null,
      "outputs": []
    },
    {
      "metadata": {
        "_uuid": "d629ff2d2480ee46fbb7e2d37f6b5fab8052498a",
        "_cell_guid": "79c7e3d0-c299-4dcb-8224-4455121ee9b0",
        "trusted": true,
        "id": "kYBzVO4LLg0i"
      },
      "cell_type": "code",
      "source": [
        "df = pd.read_csv('../input/insurance.csv')\n",
        "df.head()"
      ],
      "execution_count": null,
      "outputs": []
    },
    {
      "metadata": {
        "trusted": true,
        "id": "NJ-_TjemLg0j"
      },
      "cell_type": "code",
      "source": [
        "df.shape"
      ],
      "execution_count": null,
      "outputs": []
    },
    {
      "metadata": {
        "trusted": true,
        "id": "eU9nC4uKLg0k"
      },
      "cell_type": "code",
      "source": [
        "df.describe()"
      ],
      "execution_count": null,
      "outputs": []
    },
    {
      "metadata": {
        "trusted": true,
        "id": "HGwYW_XqLg0l"
      },
      "cell_type": "code",
      "source": [
        "df.dtypes"
      ],
      "execution_count": null,
      "outputs": []
    },
    {
      "metadata": {
        "trusted": true,
        "id": "OmMil8jBLg0l"
      },
      "cell_type": "code",
      "source": [
        "df.isnull().sum()"
      ],
      "execution_count": null,
      "outputs": []
    },
    {
      "metadata": {
        "id": "Ged2nAf1Lg0m"
      },
      "cell_type": "markdown",
      "source": [
        "<font size='2' font>We have 0 missing values which is very good.\n",
        "Now let's do EDA with some cool graphs :) First we'll see how the charges are distributed according to given factors"
      ]
    },
    {
      "metadata": {
        "trusted": true,
        "id": "JeMdfXnGLg0m"
      },
      "cell_type": "code",
      "source": [
        "sns.set(style='whitegrid')\n",
        "f, ax = plt.subplots(1,1, figsize=(12, 8))\n",
        "ax = sns.distplot(df['charges'], kde = True, color = 'c')\n",
        "plt.title('Distribution of Charges')"
      ],
      "execution_count": null,
      "outputs": []
    },
    {
      "metadata": {
        "id": "XXvYUQ-bLg0m"
      },
      "cell_type": "markdown",
      "source": [
        "<font size='2' font>This distribution is right-skewed. To make it closer to normal we can apply natural log"
      ]
    },
    {
      "metadata": {
        "trusted": true,
        "id": "HJFi-e0SLg0m"
      },
      "cell_type": "code",
      "source": [
        "f, ax = plt.subplots(1, 1, figsize=(12, 8))\n",
        "ax = sns.distplot(np.log10(df['charges']), kde = True, color = 'r' )"
      ],
      "execution_count": null,
      "outputs": []
    },
    {
      "metadata": {
        "id": "JCZYO0WDLg0m"
      },
      "cell_type": "markdown",
      "source": [
        "<font size=2> Now let's look at the charges by region"
      ]
    },
    {
      "metadata": {
        "trusted": true,
        "id": "kuG408Q-Lg0m"
      },
      "cell_type": "code",
      "source": [
        "charges = df['charges'].groupby(df.region).sum().sort_values(ascending = True)\n",
        "f, ax = plt.subplots(1, 1, figsize=(8, 6))\n",
        "ax = sns.barplot(charges.head(), charges.head().index, palette='Blues')"
      ],
      "execution_count": null,
      "outputs": []
    },
    {
      "metadata": {
        "id": "58NgiwbeLg0n"
      },
      "cell_type": "markdown",
      "source": [
        "<font size='2' font>So overall the highest medical charges are in the Southeast and the lowest are in the Southwest. Taking into account certain factors (sex, smoking, having children) let's see how it changes by region"
      ]
    },
    {
      "metadata": {
        "trusted": true,
        "id": "hc02WZH_Lg0n"
      },
      "cell_type": "code",
      "source": [
        "f, ax = plt.subplots(1, 1, figsize=(12, 8))\n",
        "ax = sns.barplot(x='region', y='charges', hue='sex', data=df, palette='cool')"
      ],
      "execution_count": null,
      "outputs": []
    },
    {
      "metadata": {
        "trusted": true,
        "id": "n7U86CA2Lg0n"
      },
      "cell_type": "code",
      "source": [
        "f, ax = plt.subplots(1,1, figsize=(12,8))\n",
        "ax = sns.barplot(x = 'region', y = 'charges',\n",
        "                 hue='smoker', data=df, palette='Reds_r')"
      ],
      "execution_count": null,
      "outputs": []
    },
    {
      "metadata": {
        "trusted": true,
        "id": "7fLFSqyHLg0n"
      },
      "cell_type": "code",
      "source": [
        "f, ax = plt.subplots(1, 1, figsize=(12, 8))\n",
        "ax = sns.barplot(x='region', y='charges', hue='children', data=df, palette='Set1')"
      ],
      "execution_count": null,
      "outputs": []
    },
    {
      "metadata": {
        "id": "0LlxkCtjLg0n"
      },
      "cell_type": "markdown",
      "source": [
        "<font size='2' font>As we can see from these barplots the highest charges due to smoking are still in the Southeast but the lowest are in the Northeast. People in the Southwest generally smoke more than people in the Northeast, but people in the Northeast have higher charges by gender than in the Southwest and Northwest overall. And people with children tend to have higher medical costs overall as well"
      ]
    },
    {
      "metadata": {
        "id": "-LcfOPK4Lg0n"
      },
      "cell_type": "markdown",
      "source": [
        "<font size='2' font>Now let's analyze the medical charges by age, bmi and children according to the smoking factor"
      ]
    },
    {
      "metadata": {
        "trusted": true,
        "id": "d7m_U7mJLg0o"
      },
      "cell_type": "code",
      "source": [
        "ax = sns.lmplot(x = 'age', y = 'charges', data=df, hue='smoker', palette='Set1')\n",
        "ax = sns.lmplot(x = 'bmi', y = 'charges', data=df, hue='smoker', palette='Set2')\n",
        "ax = sns.lmplot(x = 'children', y = 'charges', data=df, hue='smoker', palette='Set3')"
      ],
      "execution_count": null,
      "outputs": []
    },
    {
      "metadata": {
        "id": "CLnCIe2QLg0o"
      },
      "cell_type": "markdown",
      "source": [
        "<font size='2' font>Smoking has the highest impact on medical costs, even though the costs are growing with age, bmi and children. Also people who have children generally smoke less, which the following violinplots shows too"
      ]
    },
    {
      "metadata": {
        "trusted": true,
        "id": "-ygIQ8piLg0o"
      },
      "cell_type": "code",
      "source": [
        "f, ax = plt.subplots(1, 1, figsize=(10, 10))\n",
        "ax = sns.violinplot(x = 'children', y = 'charges', data=df,\n",
        "                 orient='v', hue='smoker', palette='inferno')"
      ],
      "execution_count": null,
      "outputs": []
    },
    {
      "metadata": {
        "trusted": true,
        "id": "USepqZAHLg0o"
      },
      "cell_type": "code",
      "source": [
        "##Converting objects labels into categorical\n",
        "df[['sex', 'smoker', 'region']] = df[['sex', 'smoker', 'region']].astype('category')\n",
        "df.dtypes"
      ],
      "execution_count": null,
      "outputs": []
    },
    {
      "metadata": {
        "trusted": true,
        "id": "VEteKUU2Lg0o"
      },
      "cell_type": "code",
      "source": [
        "##Converting category labels into numerical using LabelEncoder\n",
        "from sklearn.preprocessing import LabelEncoder\n",
        "label = LabelEncoder()\n",
        "label.fit(df.sex.drop_duplicates())\n",
        "df.sex = label.transform(df.sex)\n",
        "label.fit(df.smoker.drop_duplicates())\n",
        "df.smoker = label.transform(df.smoker)\n",
        "label.fit(df.region.drop_duplicates())\n",
        "df.region = label.transform(df.region)\n",
        "df.dtypes"
      ],
      "execution_count": null,
      "outputs": []
    },
    {
      "metadata": {
        "trusted": true,
        "id": "Tq-tB3LPLg0p"
      },
      "cell_type": "code",
      "source": [
        "f, ax = plt.subplots(1, 1, figsize=(10, 10))\n",
        "ax = sns.heatmap(df.corr(), annot=True, cmap='cool')"
      ],
      "execution_count": null,
      "outputs": []
    },
    {
      "metadata": {
        "id": "CwlXEGttLg0p"
      },
      "cell_type": "markdown",
      "source": [
        "<font size='2' font>No correlation, except with the smoking"
      ]
    },
    {
      "metadata": {
        "id": "v7caZVKuLg0p"
      },
      "cell_type": "markdown",
      "source": [
        "<font size=5><p style=\"color:purple\"> Linear Regression"
      ]
    },
    {
      "metadata": {
        "trusted": true,
        "id": "0vIJy30_Lg0p"
      },
      "cell_type": "code",
      "source": [
        "from sklearn.model_selection import train_test_split as holdout\n",
        "from sklearn.linear_model import LinearRegression\n",
        "from sklearn import metrics\n",
        "x = df.drop(['charges'], axis = 1)\n",
        "y = df['charges']\n",
        "x_train, x_test, y_train, y_test = holdout(x, y, test_size=0.2, random_state=0)\n",
        "Lin_reg = LinearRegression()\n",
        "Lin_reg.fit(x_train, y_train)\n",
        "print(Lin_reg.intercept_)\n",
        "print(Lin_reg.coef_)\n",
        "print(Lin_reg.score(x_test, y_test))"
      ],
      "execution_count": null,
      "outputs": []
    },
    {
      "metadata": {
        "id": "9TSYaY3hLg0p"
      },
      "cell_type": "markdown",
      "source": [
        "<font size='2' font>The result we got is good enough, but we can try to improve it a bit by reducing unimportant features later"
      ]
    },
    {
      "metadata": {
        "id": "bKlOwZNYLg0q"
      },
      "cell_type": "markdown",
      "source": [
        "<font size=5><p style=\"color:purple\">Ridge Regression"
      ]
    },
    {
      "metadata": {
        "trusted": true,
        "id": "5UKi391yLg0q"
      },
      "cell_type": "code",
      "source": [
        "from sklearn.linear_model import Ridge\n",
        "Ridge = Ridge(alpha=0.5)\n",
        "Ridge.fit(x_train, y_train)\n",
        "print(Ridge.intercept_)\n",
        "print(Ridge.coef_)\n",
        "print(Ridge.score(x_test, y_test))"
      ],
      "execution_count": null,
      "outputs": []
    },
    {
      "metadata": {
        "id": "EsN2Ayw1Lg0q"
      },
      "cell_type": "markdown",
      "source": [
        "<font size=5><p style=\"color:purple\"> Lasso Regression"
      ]
    },
    {
      "metadata": {
        "trusted": true,
        "id": "cPN9H8bbLg0q"
      },
      "cell_type": "code",
      "source": [
        "from sklearn.linear_model import Lasso\n",
        "Lasso = Lasso(alpha=0.2, fit_intercept=True, normalize=False, precompute=False, max_iter=1000,\n",
        "              tol=0.0001, warm_start=False, positive=False, random_state=None, selection='cyclic')\n",
        "Lasso.fit(x_train, y_train)\n",
        "print(Lasso.intercept_)\n",
        "print(Lasso.coef_)\n",
        "print(Lasso.score(x_test, y_test))"
      ],
      "execution_count": null,
      "outputs": []
    },
    {
      "metadata": {
        "id": "zX4j9rkXLg0q"
      },
      "cell_type": "markdown",
      "source": [
        "<font size=5><p style=\"color:purple\"> Random Forest Regressor"
      ]
    },
    {
      "metadata": {
        "trusted": true,
        "id": "xWy9fEjVLg0q"
      },
      "cell_type": "code",
      "source": [
        "from sklearn.ensemble import RandomForestRegressor as rfr\n",
        "x = df.drop(['charges'], axis=1)\n",
        "y = df.charges\n",
        "Rfr = rfr(n_estimators = 100, criterion = 'mse',\n",
        "                              random_state = 1,\n",
        "                              n_jobs = -1)\n",
        "Rfr.fit(x_train,y_train)\n",
        "x_train_pred = Rfr.predict(x_train)\n",
        "x_test_pred = Rfr.predict(x_test)\n",
        "\n",
        "print('MSE train data: %.3f, MSE test data: %.3f' %\n",
        "      (metrics.mean_squared_error(x_train_pred, y_train),\n",
        "       metrics.mean_squared_error(x_test_pred, y_test)))\n",
        "print('R2 train data: %.3f, R2 test data: %.3f' %\n",
        "      (metrics.r2_score(y_train,x_train_pred, y_train),\n",
        "       metrics.r2_score(y_test,x_test_pred, y_test)))"
      ],
      "execution_count": null,
      "outputs": []
    },
    {
      "metadata": {
        "trusted": true,
        "id": "qtakVB7eLg0u"
      },
      "cell_type": "code",
      "source": [
        "plt.figure(figsize=(8,6))\n",
        "\n",
        "plt.scatter(x_train_pred, x_train_pred - y_train,\n",
        "          c = 'gray', marker = 'o', s = 35, alpha = 0.5,\n",
        "          label = 'Train data')\n",
        "plt.scatter(x_test_pred, x_test_pred - y_test,\n",
        "          c = 'blue', marker = 'o', s = 35, alpha = 0.7,\n",
        "          label = 'Test data')\n",
        "plt.xlabel('Predicted values')\n",
        "plt.ylabel('Actual values')\n",
        "plt.legend(loc = 'upper right')\n",
        "plt.hlines(y = 0, xmin = 0, xmax = 60000, lw = 2, color = 'red')"
      ],
      "execution_count": null,
      "outputs": []
    },
    {
      "metadata": {
        "trusted": true,
        "id": "aYbWctIBLg0v"
      },
      "cell_type": "code",
      "source": [
        "print('Feature importance ranking\\n\\n')\n",
        "importances = Rfr.feature_importances_\n",
        "std = np.std([tree.feature_importances_ for tree in Rfr.estimators_],axis=0)\n",
        "indices = np.argsort(importances)[::-1]\n",
        "variables = ['age', 'sex', 'bmi', 'children','smoker', 'region']\n",
        "importance_list = []\n",
        "for f in range(x.shape[1]):\n",
        "    variable = variables[indices[f]]\n",
        "    importance_list.append(variable)\n",
        "    print(\"%d.%s(%f)\" % (f + 1, variable, importances[indices[f]]))\n",
        "\n",
        "# Plot the feature importances of the forest\n",
        "plt.figure()\n",
        "plt.title(\"Feature importances\")\n",
        "plt.bar(importance_list, importances[indices],\n",
        "       color=\"y\", yerr=std[indices], align=\"center\")"
      ],
      "execution_count": null,
      "outputs": []
    },
    {
      "metadata": {
        "id": "xgll9JwoLg0v"
      },
      "cell_type": "markdown",
      "source": [
        "<font size=5><p style=\"color:purple\"> Polynomial Regression"
      ]
    },
    {
      "metadata": {
        "trusted": true,
        "id": "G6zrcQyNLg0v"
      },
      "cell_type": "code",
      "source": [
        "from sklearn.preprocessing import PolynomialFeatures\n",
        "x = df.drop(['charges', 'sex', 'region'], axis = 1)\n",
        "y = df.charges\n",
        "pol = PolynomialFeatures (degree = 2)\n",
        "x_pol = pol.fit_transform(x)\n",
        "x_train, x_test, y_train, y_test = holdout(x_pol, y, test_size=0.2, random_state=0)\n",
        "Pol_reg = LinearRegression()\n",
        "Pol_reg.fit(x_train, y_train)\n",
        "y_train_pred = Pol_reg.predict(x_train)\n",
        "y_test_pred = Pol_reg.predict(x_test)\n",
        "print(Pol_reg.intercept_)\n",
        "print(Pol_reg.coef_)\n",
        "print(Pol_reg.score(x_test, y_test))"
      ],
      "execution_count": null,
      "outputs": []
    },
    {
      "metadata": {
        "id": "taQqDZD0Lg0v"
      },
      "cell_type": "markdown",
      "source": [
        "<font size='2' font >Awesome! :)"
      ]
    },
    {
      "metadata": {
        "trusted": true,
        "id": "UjRLeQQpLg0v"
      },
      "cell_type": "code",
      "source": [
        "##Evaluating the performance of the algorithm\n",
        "print('Mean Absolute Error:', metrics.mean_absolute_error(y_test, y_test_pred))\n",
        "print('Mean Squared Error:', metrics.mean_squared_error(y_test, y_test_pred))\n",
        "print('Root Mean Squared Error:', np.sqrt(metrics.mean_squared_error(y_test, y_test_pred)))"
      ],
      "execution_count": null,
      "outputs": []
    },
    {
      "metadata": {
        "trusted": true,
        "id": "4dPpFKWELg0v"
      },
      "cell_type": "code",
      "source": [
        "##Predicting the charges\n",
        "y_test_pred = Pol_reg.predict(x_test)\n",
        "##Comparing the actual output values with the predicted values\n",
        "df = pd.DataFrame({'Actual': y_test, 'Predicted': y_test_pred})\n",
        "df"
      ],
      "execution_count": null,
      "outputs": []
    },
    {
      "metadata": {
        "id": "O1ZEc8p1Lg0v"
      },
      "cell_type": "markdown",
      "source": [
        "<font size=2> **Conclusion:** like we previously noticed **smoking** is the greatest factor that affects medical cost charges, then it's **bmi** and **age**. **Polynomial Regression** turned out to be the best model"
      ]
    }
  ],
  "metadata": {
    "kernelspec": {
      "language": "python",
      "display_name": "Python 3",
      "name": "python3"
    },
    "language_info": {
      "pygments_lexer": "ipython3",
      "nbconvert_exporter": "python",
      "version": "3.6.4",
      "file_extension": ".py",
      "codemirror_mode": {
        "name": "ipython",
        "version": 3
      },
      "name": "python",
      "mimetype": "text/x-python"
    },
    "colab": {
      "name": "Medical Insurance Cost with Linear Regression",
      "provenance": []
    }
  },
  "nbformat": 4,
  "nbformat_minor": 0
}